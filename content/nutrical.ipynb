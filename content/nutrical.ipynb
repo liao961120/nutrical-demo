{
 "cells": [
  {
   "cell_type": "markdown",
   "metadata": {},
   "source": [
    "## Installation\n",
    "\n",
    "```sh\n",
    "pip install nutrical\n",
    "```\n",
    "\n",
    "## Usage\n",
    "\n",
    "### Ingredients"
   ]
  },
  {
   "cell_type": "code",
   "execution_count": 1,
   "metadata": {},
   "outputs": [],
   "source": [
    "from nutrical import Ingredient, Recipe\n",
    "\n",
    "apple = Ingredient(\"apple\", amount='160g', calories=80, protein=.5, fiber=1, dollars=10)\n",
    "banana = Ingredient(\"banana\", amount='80g', calories=70, protein=1, fiber=1.6, dollars=9)\n",
    "peanut = Ingredient(\"peanut\", amount='20g', calories=110, protein=5.7, fat=20, fiber=1.8, dollars=10)\n",
    "milk = Ingredient(\"milk\", amount=\"1 cup\", calories=200, protein=3, dollars=15)"
   ]
  },
  {
   "cell_type": "code",
   "execution_count": 2,
   "metadata": {},
   "outputs": [
    {
     "data": {
      "text/plain": [
       "Nutrition            Quantity\n",
       "-------------------  ----------\n",
       "Servings             1\n",
       "Total amount         150 gram\n",
       "Total dollar         20\n",
       "Total soluble fiber  1"
      ]
     },
     "execution_count": 2,
     "metadata": {},
     "output_type": "execute_result"
    }
   ],
   "source": [
    "# Programmatic construction\n",
    "data = {'name': 'hi', 'amount': '150g', 'dollar': 20, 'Soluble Fiber': 1}\n",
    "Ingredient(**data)"
   ]
  },
  {
   "cell_type": "code",
   "execution_count": 3,
   "metadata": {},
   "outputs": [
    {
     "data": {
      "text/plain": [
       "Nutrition       Quantity\n",
       "--------------  ----------\n",
       "Servings        2\n",
       "Total amount    320 gram\n",
       "Total calories  160\n",
       "Total protein   1.0\n",
       "Total fiber     2\n",
       "Total dollars   20"
      ]
     },
     "execution_count": 3,
     "metadata": {},
     "output_type": "execute_result"
    }
   ],
   "source": [
    "# nutritional value of 2 apples (summed)\n",
    "2 * apple"
   ]
  },
  {
   "cell_type": "markdown",
   "metadata": {},
   "source": [
    "#### Change of basis\n",
    "\n",
    "A new ingredient can be created from an old one by setting a new amount, as well as any `kwargs` (except `name`) used in the definition of the ingredient. This makes it easy to calculate the nutritional value of the same ingredient with a different weight/volume, such as for a smaller apple."
   ]
  },
  {
   "cell_type": "code",
   "execution_count": 4,
   "metadata": {},
   "outputs": [
    {
     "data": {
      "text/plain": [
       "Nutrition       Quantity\n",
       "--------------  ----------\n",
       "Servings        1\n",
       "Total amount    160 gram\n",
       "Total calories  80\n",
       "Total protein   0.5\n",
       "Total fiber     1\n",
       "Total dollars   10"
      ]
     },
     "execution_count": 4,
     "metadata": {},
     "output_type": "execute_result"
    }
   ],
   "source": [
    "# A smaller apple\n",
    "apple2 = apple.to(amount='130g')\n",
    "apple2.set_servings(1)\n",
    "apple2"
   ]
  },
  {
   "cell_type": "markdown",
   "metadata": {},
   "source": [
    "You might also want to know the amount required to reach an intake of, say 3 grams of fiber. Simple, just supply fiber as the parameter of the `.to()` method."
   ]
  },
  {
   "cell_type": "code",
   "execution_count": 5,
   "metadata": {},
   "outputs": [
    {
     "data": {
      "text/plain": [
       "Nutrition       Quantity\n",
       "--------------  ----------\n",
       "Servings        3.0\n",
       "Total amount    480.0 gram\n",
       "Total calories  240.0\n",
       "Total protein   1.5\n",
       "Total fiber     3.0\n",
       "Total dollars   30.0"
      ]
     },
     "execution_count": 5,
     "metadata": {},
     "output_type": "execute_result"
    }
   ],
   "source": [
    "# How much to eat to reach 3g of fibers?\n",
    "apple.to(fiber=3)"
   ]
  },
  {
   "cell_type": "markdown",
   "metadata": {},
   "source": [
    "Different ingredients can be added together. For instance, the code below calculates the nutritional value of apple milk. "
   ]
  },
  {
   "cell_type": "code",
   "execution_count": 6,
   "metadata": {},
   "outputs": [
    {
     "data": {
      "text/plain": [
       "Nutrition         Quantity\n",
       "--------------  ----------\n",
       "Servings               1\n",
       "Total calories       280\n",
       "Total dollars         25\n",
       "Total fiber            1\n",
       "Total protein          3.5"
      ]
     },
     "execution_count": 6,
     "metadata": {},
     "output_type": "execute_result"
    }
   ],
   "source": [
    "# Apple milk nutritional value per 1g of protein\n",
    "# Note that amount is (auto-)discarded since \n",
    "# milk is measured in volume while apple in weights\n",
    "apple + milk"
   ]
  },
  {
   "cell_type": "markdown",
   "metadata": {},
   "source": [
    "Adding together different ingredients to arrive at a new one may seem a bit counter-intuitive. Indeed, that's why there's a `nutrical.Recipe` class to represent recipes directly."
   ]
  },
  {
   "cell_type": "markdown",
   "metadata": {},
   "source": [
    "### Recipes"
   ]
  },
  {
   "cell_type": "code",
   "execution_count": 7,
   "metadata": {},
   "outputs": [
    {
     "data": {
      "text/plain": [
       "<Recipe (Fruit Cake)>\n",
       "\n",
       "Ingredient      Servings  Quantity\n",
       "------------  ----------  ----------\n",
       "banana               1    80 gram\n",
       "peanut               1.5  30.0 gram\n",
       "\n",
       "Nutrition       Quantity\n",
       "--------------  ----------\n",
       "Servings        1\n",
       "Total amount    110.0 gram\n",
       "Total calories  235.0\n",
       "Total fat       30.0\n",
       "Total fiber     4.3\n",
       "Total protein   9.55\n",
       "Total dollars   24.0"
      ]
     },
     "execution_count": 7,
     "metadata": {},
     "output_type": "execute_result"
    }
   ],
   "source": [
    "# Create recipe from ingredients\n",
    "recipe = Recipe(\"Fruit Cake\", [\n",
    "    1   * banana,   # 1 banana\n",
    "    1.5 * peanut    # 1.5 servings of peanut butter\n",
    "])\n",
    "recipe"
   ]
  },
  {
   "cell_type": "code",
   "execution_count": 8,
   "metadata": {},
   "outputs": [
    {
     "data": {
      "text/plain": [
       "<Recipe (Fruit Cake)>\n",
       "\n",
       "Ingredient      Servings  Quantity\n",
       "------------  ----------  ----------\n",
       "banana               1    80 gram\n",
       "peanut               1.5  30.0 gram\n",
       "apple                1.5  240.0 gram\n",
       "\n",
       "Nutrition       Quantity\n",
       "--------------  ----------\n",
       "Servings        1\n",
       "Total amount    350.0 gram\n",
       "Total calories  355.0\n",
       "Total fat       30.0\n",
       "Total fiber     5.8\n",
       "Total protein   10.3\n",
       "Total dollars   39.0"
      ]
     },
     "execution_count": 8,
     "metadata": {},
     "output_type": "execute_result"
    }
   ],
   "source": [
    "recipe.add(1.5*apple)  # add 1 and a half apples to ingredient\n",
    "recipe"
   ]
  },
  {
   "cell_type": "markdown",
   "metadata": {},
   "source": [
    "#### Some Recipe methods"
   ]
  },
  {
   "cell_type": "code",
   "execution_count": 9,
   "metadata": {},
   "outputs": [
    {
     "data": {
      "text/plain": [
       "<Recipe (Cake)>\n",
       "\n",
       "Ingredient      Servings  Quantity\n",
       "------------  ----------  ----------\n",
       "banana               1    80 gram\n",
       "peanut               1.5  30.0 gram\n",
       "apple                1.5  240.0 gram\n",
       "\n",
       "Nutrition       Quantity\n",
       "--------------  ----------\n",
       "Servings        1\n",
       "Total amount    350.0 gram\n",
       "Total calories  355.0\n",
       "Total fat       30.0\n",
       "Total fiber     5.8\n",
       "Total protein   10.3\n",
       "Total dollars   39.0"
      ]
     },
     "execution_count": 9,
     "metadata": {},
     "output_type": "execute_result"
    }
   ],
   "source": [
    "recipe.rename(\"Cake\")  # rename recipe\n",
    "recipe"
   ]
  },
  {
   "cell_type": "code",
   "execution_count": 10,
   "metadata": {},
   "outputs": [
    {
     "data": {
      "text/plain": [
       "<Recipe (Cake)>\n",
       "\n",
       "Ingredient      Servings  Quantity\n",
       "------------  ----------  ----------\n",
       "banana              0.29  22.86 gram\n",
       "peanut              0.43  8.57 gram\n",
       "apple               0.43  68.57 gram\n",
       "\n",
       "Nutrition       Quantity\n",
       "--------------  ----------\n",
       "Servings        1\n",
       "Total amount    100.0 gram\n",
       "Total calories  101.43\n",
       "Total fat       8.57\n",
       "Total fiber     1.66\n",
       "Total protein   2.94\n",
       "Total dollars   11.14"
      ]
     },
     "execution_count": 10,
     "metadata": {},
     "output_type": "execute_result"
    }
   ],
   "source": [
    "recipe.to(amount = '100gram')  # change of basis"
   ]
  },
  {
   "cell_type": "code",
   "execution_count": 11,
   "metadata": {},
   "outputs": [
    {
     "data": {
      "text/plain": [
       "<Recipe (Cake)>\n",
       "\n",
       "Ingredient      Servings  Quantity\n",
       "------------  ----------  ----------\n",
       "banana              0.29  22.86 gram\n",
       "peanut              0.43  8.57 gram\n",
       "apple               0.43  68.57 gram\n",
       "\n",
       "Nutrition       Quantity\n",
       "--------------  ----------\n",
       "Servings        1\n",
       "Total amount    100.0 gram\n",
       "Total calories  101.43\n",
       "Total fat       8.57\n",
       "Total fiber     1.66\n",
       "Total protein   2.94\n",
       "Total dollars   11.14"
      ]
     },
     "execution_count": 11,
     "metadata": {},
     "output_type": "execute_result"
    }
   ],
   "source": [
    "recipe.to(amount = '100gram')  # change of basis"
   ]
  },
  {
   "cell_type": "markdown",
   "metadata": {},
   "source": [
    "#### Import/Export"
   ]
  },
  {
   "cell_type": "code",
   "execution_count": 12,
   "metadata": {},
   "outputs": [
    {
     "data": {
      "text/plain": [
       "<Recipe (Cake)>\n",
       "\n",
       "Ingredient      Servings  Quantity\n",
       "------------  ----------  ----------\n",
       "banana               1    80 gram\n",
       "peanut               1.5  30.0 gram\n",
       "apple                1.5  240.0 gram\n",
       "\n",
       "Nutrition       Quantity\n",
       "--------------  ----------\n",
       "Servings        1\n",
       "Total amount    350.0 gram\n",
       "Total calories  355.0\n",
       "Total fat       30.0\n",
       "Total fiber     5.8\n",
       "Total protein   10.3\n",
       "Total dollars   39.0"
      ]
     },
     "execution_count": 12,
     "metadata": {},
     "output_type": "execute_result"
    }
   ],
   "source": [
    "recipe"
   ]
  },
  {
   "cell_type": "code",
   "execution_count": 13,
   "metadata": {},
   "outputs": [],
   "source": [
    "# Export nutritional value\n",
    "recipe.export_csv(\"FruitCake.csv\") \n",
    "recipe.export_xlsx(\"FruitCake.xlsx\") "
   ]
  },
  {
   "cell_type": "code",
   "execution_count": 14,
   "metadata": {},
   "outputs": [
    {
     "data": {
      "text/plain": [
       "<Recipe (FruitCake)>\n",
       "\n",
       "Ingredient      Servings  Quantity\n",
       "------------  ----------  ----------\n",
       "banana               1    80.0 gram\n",
       "peanut               1.5  30.0 gram\n",
       "apple                1.5  240.0 gram\n",
       "\n",
       "Nutrition       Quantity\n",
       "--------------  ----------\n",
       "Servings        1\n",
       "Total amount    350.0 gram\n",
       "Total calories  355.0\n",
       "Total fat       30.0\n",
       "Total fiber     5.8\n",
       "Total protein   10.3\n",
       "Total dollars   39.0"
      ]
     },
     "execution_count": 14,
     "metadata": {},
     "output_type": "execute_result"
    }
   ],
   "source": [
    "from nutrical import import_recipe\n",
    "\n",
    "# Import recipe from csv/excel\n",
    "recipe = import_recipe(\"FruitCake.csv\")\n",
    "recipe"
   ]
  },
  {
   "cell_type": "code",
   "execution_count": 15,
   "metadata": {},
   "outputs": [
    {
     "data": {
      "text/plain": [
       "<Recipe (FruitCake)>\n",
       "\n",
       "Ingredient      Servings  Quantity\n",
       "------------  ----------  ----------\n",
       "banana               1    80.0 gram\n",
       "peanut               1.5  30.0 gram\n",
       "apple                1.5  240.0 gram\n",
       "\n",
       "Nutrition       Quantity\n",
       "--------------  ----------\n",
       "Servings        1\n",
       "Total amount    350.0 gram\n",
       "Total calories  355.0\n",
       "Total fat       30.0\n",
       "Total fiber     5.8\n",
       "Total protein   10.3\n",
       "Total dollars   39.0"
      ]
     },
     "execution_count": 15,
     "metadata": {},
     "output_type": "execute_result"
    }
   ],
   "source": [
    "recipe = import_recipe(\"FruitCake.xlsx\")\n",
    "recipe"
   ]
  },
  {
   "cell_type": "markdown",
   "metadata": {},
   "source": [
    "## Example: Home-made Yogurt"
   ]
  },
  {
   "cell_type": "code",
   "execution_count": 16,
   "metadata": {},
   "outputs": [],
   "source": [
    "from nutrical.utils import UREG\n",
    "from nutrical import Ingredient, Recipe\n",
    "\n",
    "powder = Ingredient(\"milk powder\", amount='32g', protein=7.8)\n",
    "water = Ingredient(\"water\", amount='200g')\n",
    "probio = Ingredient(\"probiotics (yogurt)\", amount=\"75g\", protein=2.7)\n",
    "\n",
    "target_protein_concentration = 6\n",
    "target_total_weight = 700\n",
    "protein_from_milk = target_protein_concentration * (target_total_weight/100) - 2.7\n",
    "powder_to_add = powder.to(protein=protein_from_milk)\n",
    "water_weight = UREG(f\"{target_total_weight} gram\") - probio.total_amount - powder_to_add.total_amount"
   ]
  },
  {
   "cell_type": "code",
   "execution_count": 17,
   "metadata": {},
   "outputs": [
    {
     "data": {
      "text/plain": [
       "<Recipe (yogurt)>\n",
       "\n",
       "Ingredient             Servings  Quantity\n",
       "-------------------  ----------  -----------\n",
       "milk powder                5.04  161.23 gram\n",
       "water                      2.32  463.77 gram\n",
       "probiotics (yogurt)        1     75 gram\n",
       "\n",
       "Nutrition      Quantity\n",
       "-------------  ----------\n",
       "Servings       1\n",
       "Total amount   700.0 gram\n",
       "Total protein  42.0"
      ]
     },
     "execution_count": 17,
     "metadata": {},
     "output_type": "execute_result"
    }
   ],
   "source": [
    "yogurt = Recipe(\"yogurt\", components=[\n",
    "    powder_to_add,\n",
    "    water.to(amount=water_weight),\n",
    "    probio\n",
    "])\n",
    "yogurt"
   ]
  },
  {
   "cell_type": "code",
   "execution_count": 18,
   "metadata": {},
   "outputs": [
    {
     "data": {
      "text/plain": [
       "<Recipe (yogurt)>\n",
       "\n",
       "Ingredient             Servings  Quantity\n",
       "-------------------  ----------  ----------\n",
       "milk powder                0.72  23.03 gram\n",
       "water                      0.33  66.25 gram\n",
       "probiotics (yogurt)        0.14  10.71 gram\n",
       "\n",
       "Nutrition      Quantity\n",
       "-------------  ----------\n",
       "Servings       1\n",
       "Total amount   100.0 gram\n",
       "Total protein  6.0"
      ]
     },
     "execution_count": 18,
     "metadata": {},
     "output_type": "execute_result"
    }
   ],
   "source": [
    "yogurt.to(amount='100g')"
   ]
  }
 ],
 "metadata": {
  "kernelspec": {
   "display_name": "Python 3",
   "language": "python",
   "name": "python3"
  },
  "language_info": {
   "codemirror_mode": {
    "name": "ipython",
    "version": 3
   },
   "file_extension": ".py",
   "mimetype": "text/x-python",
   "name": "python",
   "nbconvert_exporter": "python",
   "pygments_lexer": "ipython3",
   "version": "3.8.10"
  }
 },
 "nbformat": 4,
 "nbformat_minor": 2
}
